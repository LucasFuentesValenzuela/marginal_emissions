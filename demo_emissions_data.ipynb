{
 "cells": [
  {
   "cell_type": "markdown",
   "metadata": {
    "toc": true
   },
   "source": [
    "<h1>Table of Contents<span class=\"tocSkip\"></span></h1>\n",
    "<div class=\"toc\"><ul class=\"toc-item\"><li><span><a href=\"#Description\" data-toc-modified-id=\"Description-1\"><span class=\"toc-item-num\">1&nbsp;&nbsp;</span>Description</a></span></li><li><span><a href=\"#Load\" data-toc-modified-id=\"Load-2\"><span class=\"toc-item-num\">2&nbsp;&nbsp;</span>Load</a></span></li><li><span><a href=\"#Loading-bulk-datasets\" data-toc-modified-id=\"Loading-bulk-datasets-3\"><span class=\"toc-item-num\">3&nbsp;&nbsp;</span>Loading bulk datasets</a></span><ul class=\"toc-item\"><li><span><a href=\"#Regions-in-the-dataset\" data-toc-modified-id=\"Regions-in-the-dataset-3.1\"><span class=\"toc-item-num\">3.1&nbsp;&nbsp;</span>Regions in the dataset</a></span></li><li><span><a href=\"#Co2-dataset\" data-toc-modified-id=\"Co2-dataset-3.2\"><span class=\"toc-item-num\">3.2&nbsp;&nbsp;</span>Co2 dataset</a></span></li><li><span><a href=\"#Elec-dataset\" data-toc-modified-id=\"Elec-dataset-3.3\"><span class=\"toc-item-num\">3.3&nbsp;&nbsp;</span>Elec dataset</a></span></li></ul></li><li><span><a href=\"#Computing-MEFs\" data-toc-modified-id=\"Computing-MEFs-4\"><span class=\"toc-item-num\">4&nbsp;&nbsp;</span>Computing MEFs</a></span><ul class=\"toc-item\"><li><span><a href=\"#Examples-with-the-MISO-BA\" data-toc-modified-id=\"Examples-with-the-MISO-BA-4.1\"><span class=\"toc-item-num\">4.1&nbsp;&nbsp;</span>Examples with the MISO BA</a></span></li><li><span><a href=\"#Examples-with-the-CAISO-BA\" data-toc-modified-id=\"Examples-with-the-CAISO-BA-4.2\"><span class=\"toc-item-num\">4.2&nbsp;&nbsp;</span>Examples with the CAISO BA</a></span></li></ul></li><li><span><a href=\"#Comparison-of-average-MEFs-for-every-BA\" data-toc-modified-id=\"Comparison-of-average-MEFs-for-every-BA-5\"><span class=\"toc-item-num\">5&nbsp;&nbsp;</span>Comparison of average MEFs for every BA</a></span></li><li><span><a href=\"#A-draft-of-an-hourly-regression-scheme\" data-toc-modified-id=\"A-draft-of-an-hourly-regression-scheme-6\"><span class=\"toc-item-num\">6&nbsp;&nbsp;</span>A draft of an hourly regression scheme</a></span><ul class=\"toc-item\"><li><span><a href=\"#Example-with-MISO\" data-toc-modified-id=\"Example-with-MISO-6.1\"><span class=\"toc-item-num\">6.1&nbsp;&nbsp;</span>Example with MISO</a></span></li><li><span><a href=\"#Example-with-CISO\" data-toc-modified-id=\"Example-with-CISO-6.2\"><span class=\"toc-item-num\">6.2&nbsp;&nbsp;</span>Example with CISO</a></span></li></ul></li></ul></div>"
   ]
  },
  {
   "cell_type": "markdown",
   "metadata": {},
   "source": [
    "# Description"
   ]
  },
  {
   "cell_type": "markdown",
   "metadata": {},
   "source": [
    "In this notebook, I have implemented a rapid prototype for estimating marginal emissions from raw data. The data was downloaded from the following link: web.stanford.edu/~jdechale/emissions_app/. \n",
    "\n",
    "Datasets are included within the .zip archive sent alongside the document. "
   ]
  },
  {
   "cell_type": "markdown",
   "metadata": {},
   "source": [
    "**A quick note on the structure of the datasets:**"
   ]
  },
  {
   "cell_type": "markdown",
   "metadata": {},
   "source": [
    "The columns of both datasets have specific names. They are usually a combination of \n",
    "- Balacing Authorities ID (e.g. CISO) \n",
    "- A tag explaining what we are looking at:\n",
    "    - D: Demand\n",
    "    - NG: Net Generation\n",
    "    - TI: Total Interchange - (positive if exports)\n",
    "    - ID: Interchange with directly connected balancing authorities - (positive\n",
    "        if exports)\n",
    "- For electricity, the type of generation. "
   ]
  },
  {
   "cell_type": "markdown",
   "metadata": {},
   "source": [
    "# Load"
   ]
  },
  {
   "cell_type": "code",
   "execution_count": null,
   "metadata": {},
   "outputs": [],
   "source": [
    "%load_ext autoreload\n",
    "%autoreload 2"
   ]
  },
  {
   "cell_type": "code",
   "execution_count": null,
   "metadata": {},
   "outputs": [],
   "source": [
    "%matplotlib inline\n",
    "import matplotlib.pyplot as plt\n",
    "import numpy as np\n",
    "import pandas as pd\n",
    "\n",
    "import os\n",
    "\n",
    "from utils import plot_mef, get_BAs, compute_mef"
   ]
  },
  {
   "cell_type": "code",
   "execution_count": null,
   "metadata": {},
   "outputs": [],
   "source": [
    "from sklearn.linear_model import LinearRegression"
   ]
  },
  {
   "cell_type": "code",
   "execution_count": null,
   "metadata": {},
   "outputs": [],
   "source": [
    "# replace with your own folder containing the documents\n",
    "\n",
    "DATA_PATH = '/Users/lucasfuentes/Documents/Ideas/EnergyNetworks/Data'"
   ]
  },
  {
   "cell_type": "markdown",
   "metadata": {},
   "source": [
    "# Loading bulk datasets"
   ]
  },
  {
   "cell_type": "code",
   "execution_count": null,
   "metadata": {},
   "outputs": [],
   "source": [
    "fnm_co2 = os.path.join(DATA_PATH, 'EBA_co2.csv')\n",
    "fnm_elec = os.path.join(DATA_PATH, 'EBA_elec.csv')"
   ]
  },
  {
   "cell_type": "code",
   "execution_count": null,
   "metadata": {},
   "outputs": [],
   "source": [
    "df_co2 = pd.read_csv(fnm_co2, index_col=0, parse_dates=True)\n",
    "\n",
    "df_elec = pd.read_csv(fnm_elec, index_col=0, parse_dates=True)"
   ]
  },
  {
   "cell_type": "markdown",
   "metadata": {},
   "source": [
    "## Regions in the dataset"
   ]
  },
  {
   "cell_type": "code",
   "execution_count": null,
   "metadata": {},
   "outputs": [],
   "source": [
    "BAs = get_BAs(df_co2)"
   ]
  },
  {
   "cell_type": "code",
   "execution_count": null,
   "metadata": {},
   "outputs": [],
   "source": [
    "print(\"These are the names of the Balancing Authorities present in the dataset:\")\n",
    "print(BAs)\n",
    "print(f\"\\nThere are {len(BAs)} BAs.\")"
   ]
  },
  {
   "cell_type": "markdown",
   "metadata": {},
   "source": [
    "## Co2 dataset"
   ]
  },
  {
   "cell_type": "markdown",
   "metadata": {},
   "source": [
    "As an example, the first column above gives the CO2-emissions exchanged between AEC and MISO. "
   ]
  },
  {
   "cell_type": "code",
   "execution_count": null,
   "metadata": {},
   "outputs": [],
   "source": [
    "df_co2.head()"
   ]
  },
  {
   "cell_type": "markdown",
   "metadata": {},
   "source": [
    "## Elec dataset"
   ]
  },
  {
   "cell_type": "markdown",
   "metadata": {},
   "source": [
    "The format of the column name is \n",
    "- **EBA.ba_name-ALL.[D,NG,TI].H** for the [demand, net_generation, total_interchange] hourly for BA ba_name\n",
    "- **EBA.ba_name-other_ba_name.ID.H** for the interchange between ba_name and other_ba_name\n",
    "- **EBA.ba_name-ALL.NG.SOURCE.H** where **SOURCE** is going to be water, wind, coal, ... for the total generation of a given source"
   ]
  },
  {
   "cell_type": "code",
   "execution_count": null,
   "metadata": {},
   "outputs": [],
   "source": [
    "df_elec.head()"
   ]
  },
  {
   "cell_type": "markdown",
   "metadata": {},
   "source": [
    "For instance, for **MISO**, we see that it exchanges with a bunch of BAs. We also know that it produces nuclear, oil, sun, hydro, wind, and \"others\""
   ]
  },
  {
   "cell_type": "code",
   "execution_count": null,
   "metadata": {},
   "outputs": [],
   "source": [
    "for c in df_elec.columns:\n",
    "    if 'MISO-' in c:\n",
    "        print(c)"
   ]
  },
  {
   "cell_type": "markdown",
   "metadata": {},
   "source": [
    "# Computing MEFs"
   ]
  },
  {
   "cell_type": "markdown",
   "metadata": {},
   "source": [
    "In the simplest models, MEFs $\\alpha$ can be computed as\n",
    "$$\n",
    "\\Delta E \\propto \\alpha \\Delta X,\n",
    "$$\n",
    "where: \n",
    "- $E$ are the total emissions\n",
    "- $X$ is an appropriate regressor (total generation, fossil fuel generation, demand...). \n",
    "\n",
    "I implemented a simple linear regression as a first prototype. "
   ]
  },
  {
   "cell_type": "markdown",
   "metadata": {},
   "source": [
    "## Examples with the MISO BA"
   ]
  },
  {
   "cell_type": "markdown",
   "metadata": {},
   "source": [
    "Below, we compute the MEF for the MISO BA for different regressors. A discussion of these different figures is provided in the main text. "
   ]
  },
  {
   "cell_type": "code",
   "execution_count": null,
   "metadata": {},
   "outputs": [],
   "source": [
    "ba = 'MISO'\n",
    "\n",
    "(ba_, ba_co2), mef, r2 = plot_mef(ba, df_elec, df_co2, which='generation')"
   ]
  },
  {
   "cell_type": "code",
   "execution_count": null,
   "metadata": {},
   "outputs": [],
   "source": [
    "ba = 'MISO'\n",
    "\n",
    "_ = plot_mef(ba, df_elec, df_co2, which='net_generation')"
   ]
  },
  {
   "cell_type": "code",
   "execution_count": null,
   "metadata": {},
   "outputs": [],
   "source": [
    "ba = 'MISO'\n",
    "\n",
    "_ = plot_mef(ba, df_elec, df_co2, which='demand')"
   ]
  },
  {
   "cell_type": "code",
   "execution_count": null,
   "metadata": {},
   "outputs": [],
   "source": [
    "ba = 'MISO'\n",
    "\n",
    "_ = plot_mef(ba, df_elec, df_co2, which='net_demand')"
   ]
  },
  {
   "cell_type": "markdown",
   "metadata": {},
   "source": [
    "## Examples with the CAISO BA"
   ]
  },
  {
   "cell_type": "markdown",
   "metadata": {},
   "source": [
    "Below, we compute the MEF for the MISO BA for different regressors. A discussion of these different figures is provided in the main text. "
   ]
  },
  {
   "cell_type": "code",
   "execution_count": null,
   "metadata": {},
   "outputs": [],
   "source": [
    "ba = 'CISO'\n",
    "\n",
    "_ = plot_mef(ba, df_elec, df_co2, which='generation')"
   ]
  },
  {
   "cell_type": "code",
   "execution_count": null,
   "metadata": {},
   "outputs": [],
   "source": [
    "ba = 'CISO'\n",
    "\n",
    "_ = plot_mef(ba, df_elec, df_co2, which='net_generation')"
   ]
  },
  {
   "cell_type": "code",
   "execution_count": null,
   "metadata": {},
   "outputs": [],
   "source": [
    "ba = 'CISO'\n",
    "\n",
    "_ = plot_mef(ba, df_elec, df_co2, which='demand')"
   ]
  },
  {
   "cell_type": "code",
   "execution_count": null,
   "metadata": {},
   "outputs": [],
   "source": [
    "ba = 'CISO'\n",
    "\n",
    "_ = plot_mef(ba, df_elec, df_co2, which='net_demand')"
   ]
  },
  {
   "cell_type": "markdown",
   "metadata": {},
   "source": [
    "# Comparison of average MEFs for every BA"
   ]
  },
  {
   "cell_type": "markdown",
   "metadata": {},
   "source": [
    "We can apply the above methodology across all BAs, to obtain an overview of the distribution of MEFs. "
   ]
  },
  {
   "cell_type": "code",
   "execution_count": null,
   "metadata": {},
   "outputs": [],
   "source": [
    "from utils import get_mef_distribution"
   ]
  },
  {
   "cell_type": "code",
   "execution_count": null,
   "metadata": {},
   "outputs": [],
   "source": [
    "which=\"generation\""
   ]
  },
  {
   "cell_type": "code",
   "execution_count": null,
   "metadata": {},
   "outputs": [],
   "source": [
    "BAs, mefs, r2s = get_mef_distribution(df_elec, df_co2, which=which)"
   ]
  },
  {
   "cell_type": "code",
   "execution_count": null,
   "metadata": {},
   "outputs": [],
   "source": [
    "plt.figure(figsize=(15, 20))\n",
    "plt.barh(BAs, mefs)\n",
    "plt.xlabel(\"MEF (kg/MWh)\")\n",
    "plt.ylabel(\"BA\")\n",
    "plt.savefig(os.path.join(\"figs\", f\"mefs_ALL_{which}.pdf\"))"
   ]
  },
  {
   "cell_type": "code",
   "execution_count": null,
   "metadata": {},
   "outputs": [],
   "source": [
    "plt.figure(figsize=(15, 20))\n",
    "plt.barh(BAs, r2s)\n",
    "plt.xlabel(\"R2\")\n",
    "plt.ylabel(\"BA\")\n",
    "plt.savefig(os.path.join(\"figs\", f\"R2_ALL_{which}.pdf\"))"
   ]
  },
  {
   "cell_type": "markdown",
   "metadata": {},
   "source": [
    "# A draft of an hourly regression scheme"
   ]
  },
  {
   "cell_type": "code",
   "execution_count": null,
   "metadata": {},
   "outputs": [],
   "source": [
    "from utils import compute_hourly_mef"
   ]
  },
  {
   "cell_type": "markdown",
   "metadata": {},
   "source": [
    "## Example with MISO"
   ]
  },
  {
   "cell_type": "code",
   "execution_count": null,
   "metadata": {},
   "outputs": [],
   "source": [
    "ba = 'MISO'"
   ]
  },
  {
   "cell_type": "code",
   "execution_count": null,
   "metadata": {},
   "outputs": [],
   "source": [
    "mefs_hr_G, r2s_hr_G = compute_hourly_mef(ba, df_elec, df_co2, which='generation')\n",
    "\n",
    "mefs_hr_ND, r2s_hr_ND = compute_hourly_mef(ba, df_elec, df_co2, which='net_demand')"
   ]
  },
  {
   "cell_type": "code",
   "execution_count": null,
   "metadata": {},
   "outputs": [],
   "source": [
    "fig, ax1 = plt.subplots()\n",
    "ax2 = ax1.twinx()\n",
    "ax1.plot(mefs_hr_G, 'g-')\n",
    "ax2.plot(r2s_hr_G, 'b-')\n",
    "ax1.plot(mefs_hr_ND, 'g--')\n",
    "ax2.plot(r2s_hr_ND, 'b--')\n",
    "\n",
    "ax1.set_xlabel('Hour of day')\n",
    "ax1.set_ylabel('MEF [kg/MWh]', color='g')\n",
    "ax2.set_ylabel('R2 [-]', color='b')\n",
    "ax1.set_ylim([0, 1000])\n",
    "ax2.set_ylim([0, 1])\n",
    "\n",
    "plt.savefig(os.path.join(\"figs\", f\"{ba}_hourly.pdf\"));"
   ]
  },
  {
   "cell_type": "markdown",
   "metadata": {},
   "source": [
    "## Example with CISO"
   ]
  },
  {
   "cell_type": "code",
   "execution_count": null,
   "metadata": {},
   "outputs": [],
   "source": [
    "ba = 'CISO'"
   ]
  },
  {
   "cell_type": "code",
   "execution_count": null,
   "metadata": {},
   "outputs": [],
   "source": [
    "mefs_hr_G, r2s_hr_G = compute_hourly_mef(ba, df_elec, df_co2, which='generation')\n",
    "\n",
    "mefs_hr_ND, r2s_hr_ND = compute_hourly_mef(ba, df_elec, df_co2, which='net_demand')\n"
   ]
  },
  {
   "cell_type": "code",
   "execution_count": null,
   "metadata": {},
   "outputs": [],
   "source": [
    "fig, ax1 = plt.subplots()\n",
    "ax2 = ax1.twinx()\n",
    "ax1.plot(mefs_hr_G, 'g-')\n",
    "ax2.plot(r2s_hr_G, 'b-')\n",
    "ax1.plot(mefs_hr_ND, 'g--')\n",
    "ax2.plot(r2s_hr_ND, 'b--')\n",
    "\n",
    "ax1.set_xlabel('Hour of day')\n",
    "ax1.set_ylabel('MEF [kg/MWh]', color='g')\n",
    "ax2.set_ylabel('R2 [-]', color='b')\n",
    "ax1.set_ylim([0, 1000])\n",
    "ax2.set_ylim([0, 1])\n",
    "\n",
    "plt.savefig(os.path.join(\"figs\", f\"{ba}_hourly.pdf\"));"
   ]
  },
  {
   "cell_type": "code",
   "execution_count": null,
   "metadata": {},
   "outputs": [],
   "source": []
  }
 ],
 "metadata": {
  "kernelspec": {
   "display_name": "Python 3",
   "language": "python",
   "name": "python3"
  },
  "language_info": {
   "codemirror_mode": {
    "name": "ipython",
    "version": 3
   },
   "file_extension": ".py",
   "mimetype": "text/x-python",
   "name": "python",
   "nbconvert_exporter": "python",
   "pygments_lexer": "ipython3",
   "version": "3.7.7"
  },
  "toc": {
   "base_numbering": 1,
   "nav_menu": {},
   "number_sections": true,
   "sideBar": true,
   "skip_h1_title": false,
   "title_cell": "Table of Contents",
   "title_sidebar": "Contents",
   "toc_cell": true,
   "toc_position": {
    "height": "calc(100% - 180px)",
    "left": "10px",
    "top": "150px",
    "width": "195px"
   },
   "toc_section_display": true,
   "toc_window_display": true
  },
  "varInspector": {
   "cols": {
    "lenName": 16,
    "lenType": 16,
    "lenVar": 40
   },
   "kernels_config": {
    "python": {
     "delete_cmd_postfix": "",
     "delete_cmd_prefix": "del ",
     "library": "var_list.py",
     "varRefreshCmd": "print(var_dic_list())"
    },
    "r": {
     "delete_cmd_postfix": ") ",
     "delete_cmd_prefix": "rm(",
     "library": "var_list.r",
     "varRefreshCmd": "cat(var_dic_list()) "
    }
   },
   "types_to_exclude": [
    "module",
    "function",
    "builtin_function_or_method",
    "instance",
    "_Feature"
   ],
   "window_display": false
  }
 },
 "nbformat": 4,
 "nbformat_minor": 5
}
